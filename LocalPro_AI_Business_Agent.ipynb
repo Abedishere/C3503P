{
 "cells": [
  {
   "cell_type": "markdown",
   "metadata": {
    "id": "uRLeolJ2ECMX"
   },
   "source": [
    "# 🤖 LocalPro AI - Smart Business Agent\n",
    "\n",
    "## AI-Powered Automation for Home Service Businesses\n",
    "\n",
    "This notebook creates a complete AI business agent for **LocalPro AI**, a company that helps home service businesses (plumbing, HVAC, electrical, etc.) automate their customer service, scheduling, and lead management.\n",
    "\n",
    "### Features:\n",
    "- 🤖 AI chatbot that acts as a business representative\n",
    "- 📞 Automatic lead capture with contact information\n",
    "- 📝 Feedback collection for continuous improvement\n",
    "- 💼 Professional business documents generation\n",
    "- 🎨 Beautiful Gradio chat interface\n",
    "- 📊 Data storage (JSON & CSV)\n",
    "\n",
    "### Business Concept:\n",
    "**LocalPro AI** addresses a $506B market opportunity by helping small home service businesses compete with larger companies through AI automation.\n",
    "\n",
    "---"
   ]
  },
  {
   "cell_type": "markdown",
   "metadata": {
    "id": "Q9-U-5X3ECMd"
   },
   "source": [
    "## Step 1: Install Required Libraries"
   ]
  },
  {
   "cell_type": "code",
   "metadata": {
    "colab": {
     "base_uri": "https://localhost:8080/"
    },
    "id": "iFroEkDWECMe",
    "outputId": "eaec9796-18c7-4af6-cc79-35981176a8aa",
    "ExecuteTime": {
     "end_time": "2025-10-17T15:28:04.153098Z",
     "start_time": "2025-10-17T15:27:59.329608Z"
    }
   },
   "source": [
    "# Install required packages\n",
    "print(\"📦 Installing required libraries...\")\n",
    "\n",
    "!pip install -q gradio\n",
    "!pip install -q reportlab\n",
    "!pip install -q PyPDF2\n",
    "\n",
    "print(\"✅ All libraries installed successfully!\")"
   ],
   "outputs": [
    {
     "name": "stdout",
     "output_type": "stream",
     "text": [
      "📦 Installing required libraries...\n",
      "✅ All libraries installed successfully!\n"
     ]
    }
   ],
   "execution_count": 24
  },
  {
   "cell_type": "markdown",
   "metadata": {
    "id": "_VxTEuIRECMh"
   },
   "source": [
    "## Step 2: Import Libraries"
   ]
  },
  {
   "cell_type": "code",
   "metadata": {
    "colab": {
     "base_uri": "https://localhost:8080/"
    },
    "id": "p32uasQyECMh",
    "outputId": "8d80fd37-2795-4114-c398-f3a8ebd5ed00",
    "ExecuteTime": {
     "end_time": "2025-10-17T16:19:03.560172Z",
     "start_time": "2025-10-17T16:19:03.554007Z"
    }
   },
   "source": [
    "# Import all necessary libraries\n",
    "print(\"📚 Importing libraries...\")\n",
    "\n",
    "import os\n",
    "import json\n",
    "import csv\n",
    "import requests\n",
    "from datetime import datetime\n",
    "from typing import Dict, List, Optional  # Make sure this line is here\n",
    "\n",
    "import gradio as gr\n",
    "\n",
    "print(\"✅ Libraries imported successfully!\")"
   ],
   "outputs": [
    {
     "name": "stdout",
     "output_type": "stream",
     "text": [
      "📚 Importing libraries...\n",
      "✅ Libraries imported successfully!\n"
     ]
    }
   ],
   "execution_count": 49
  },
  {
   "cell_type": "markdown",
   "metadata": {
    "id": "ZV6zFbaSECMi"
   },
   "source": [
    "## Step 3: Set Up API Key"
   ]
  },
  {
   "cell_type": "code",
   "metadata": {
    "colab": {
     "base_uri": "https://localhost:8080/"
    },
    "id": "PSf5ltPiECMi",
    "outputId": "0bee0e5e-b3d3-46c7-8520-03e60cf26511",
    "ExecuteTime": {
     "end_time": "2025-10-17T16:19:08.721019Z",
     "start_time": "2025-10-17T16:19:05.051497Z"
    }
   },
   "source": "import requests\nimport os\nfrom dotenv import load_dotenv\n\n# Load environment variables from .env file\nload_dotenv()\n\n# Configure API credentials\nprint(\"🔑 Setting up API credentials...\")\n\n# Load API key from environment variable\nAPI_KEY = os.getenv('OPENROUTER_API_KEY')\n\nif not API_KEY:\n    raise ValueError(\"❌ OPENROUTER_API_KEY not found in .env file! Please add it to your .env file.\")\n\n# OpenRouter API endpoint\nOPENROUTER_URL = \"https://openrouter.ai/api/v1/chat/completions\"\n\n# Test the API key with Kimi K2\nprint(\"🔍 Testing API key with Kimi K2...\")\n\ntry:\n    headers = {\n        \"Authorization\": f\"Bearer {API_KEY}\",\n        \"Content-Type\": \"application/json\",\n        \"HTTP-Referer\": \"https://github.com/yourusername/yourproject\",\n        \"X-Title\": \"Kimi API Test\"\n    }\n\n    test_payload = {\n        \"model\": \"moonshotai/kimi-k2\",  # Kimi K2 model\n        \"messages\": [\n            {\"role\": \"user\", \"content\": \"Hi, can you introduce yourself?\"}\n        ],\n        \"max_tokens\": 50\n    }\n\n    response = requests.post(OPENROUTER_URL, headers=headers, json=test_payload)\n\n    if response.status_code == 200:\n        print(\"✅ API key is valid and working!\")\n        print(\"✅ Successfully connected to Kimi K2 model!\")\n        result = response.json()\n        print(f\"\\n💬 Test Response: {result['choices'][0]['message']['content']}\")\n    else:\n        print(f\"❌ API key test failed!\")\n        print(f\"Status code: {response.status_code}\")\n        print(f\"Error: {response.text}\")\n\nexcept Exception as e:\n    print(f\"❌ Error testing API key: {str(e)}\")\n\nprint(\"\\n📝 API Configuration:\")\nprint(f\"  - Provider: OpenRouter\")\nprint(f\"  - Model: moonshotai/kimi-k2\")\nprint(f\"  - Endpoint: {OPENROUTER_URL}\")\nprint(f\"  - Status: Ready to use! 🚀\")",
   "outputs": [
    {
     "name": "stdout",
     "output_type": "stream",
     "text": [
      "🔑 Setting up API credentials...\n",
      "🔍 Testing API key with Kimi K2...\n",
      "✅ API key is valid and working!\n",
      "✅ Successfully connected to Kimi K2 model!\n",
      "\n",
      "💬 Test Response: Hi! I'm Kimi, your AI assistant and good friend. I'm here to help you with questions, ideas, or anything you need—anytime. Let's make today great together!\n",
      "\n",
      "📝 API Configuration:\n",
      "  - Provider: OpenRouter\n",
      "  - Model: moonshotai/kimi-k2\n",
      "  - Endpoint: https://openrouter.ai/api/v1/chat/completions\n",
      "  - Status: Ready to use! 🚀\n"
     ]
    }
   ],
   "execution_count": 50
  },
  {
   "cell_type": "markdown",
   "metadata": {
    "id": "oNuh-HOCECMj"
   },
   "source": [
    "## Step 4: Create Business Documents"
   ]
  },
  {
   "cell_type": "code",
   "metadata": {
    "colab": {
     "base_uri": "https://localhost:8080/"
    },
    "id": "x68NvgU9ECMj",
    "outputId": "b2b8ce3e-76a8-4b78-a63d-f4ffdc192e69",
    "ExecuteTime": {
     "end_time": "2025-10-17T16:19:11.060478Z",
     "start_time": "2025-10-17T16:19:11.005686Z"
    }
   },
   "source": [
    "# Create comprehensive business documentation\n",
    "print(\"📄 Creating business documents...\")\n",
    "\n",
    "# Business summary text\n",
    "business_summary = \"\"\"LocalPro AI - Revolutionizing Home Services with Artificial Intelligence\n",
    "\n",
    "LocalPro AI is an innovative technology company that provides AI-powered automation solutions specifically designed for local home service businesses. Founded in 2024, we recognized that 77% of home service companies are small operations (1-5 employees) struggling to compete with larger corporations that have 24/7 customer service and sophisticated scheduling systems.\n",
    "\n",
    "OUR MISSION\n",
    "To democratize access to enterprise-level AI technology for local service businesses, helping them compete effectively, reduce operational costs, and provide exceptional customer experiences.\n",
    "\n",
    "SERVICES WE OFFER:\n",
    "1. AI-Powered 24/7 Customer Service Chatbot\n",
    "   - Handles customer inquiries instantly\n",
    "   - Qualifies leads automatically\n",
    "   - Books appointments seamlessly\n",
    "   - Answers common questions about services, pricing, and availability\n",
    "\n",
    "2. Intelligent Scheduling & Dispatch Optimization\n",
    "   - AI-powered route optimization\n",
    "   - Automatic scheduling based on technician skills and location\n",
    "   - Real-time calendar management\n",
    "   - SMS/email notifications to customers\n",
    "\n",
    "3. Automated Lead Management\n",
    "   - Captures and qualifies leads from multiple channels\n",
    "   - Automated follow-up sequences\n",
    "   - Lead scoring and prioritization\n",
    "   - Integration with existing CRM systems\n",
    "\n",
    "4. Customer Feedback & Review Management\n",
    "   - Automated post-service follow-up\n",
    "   - Review request automation\n",
    "   - Customer satisfaction tracking\n",
    "   - Reputation management insights\n",
    "\n",
    "5. Business Analytics Dashboard\n",
    "   - Real-time performance metrics\n",
    "   - Customer behavior insights\n",
    "   - Revenue optimization suggestions\n",
    "   - Competitive analysis\n",
    "\n",
    "TARGET MARKET:\n",
    "- Plumbing companies\n",
    "- HVAC contractors\n",
    "- Electrical services\n",
    "- Cleaning services\n",
    "- Landscaping businesses\n",
    "- Home repair contractors\n",
    "- Pest control services\n",
    "\n",
    "COMPETITIVE ADVANTAGE:\n",
    "Unlike generic AI solutions, LocalPro AI is specifically trained on home service industry data, understands seasonal patterns, local service preferences, and technical terminology. Our solution integrates seamlessly with existing tools like ServiceTitan, Housecall Pro, and QuickBooks.\n",
    "\n",
    "BUSINESS MODEL:\n",
    "- Monthly subscription: $297-$997/month depending on features\n",
    "- Setup fee: $500-$2,000 based on business size\n",
    "- Add-on services: Review management, advanced analytics\n",
    "- Partnership revenue from software integrations\n",
    "\n",
    "OUR TEAM:\n",
    "- Sarah Chen (CEO): Former ServiceTitan executive, 15+ years in home services tech\n",
    "- Marcus Rodriguez (CTO): AI/ML expert, ex-Google, 3 patents in NLP\n",
    "- Jennifer Walsh (COO): Operations specialist, scaled 3 service businesses to $10M+\n",
    "- David Kim (VP Sales): B2B SaaS sales leader, ex-Salesforce\n",
    "\n",
    "MARKET OPPORTUNITY:\n",
    "The home services market is valued at $506 billion in the US, with over 500,000 small service businesses. Our addressable market is $15 billion, with only 5% current penetration of AI solutions.\n",
    "\n",
    "FUNDING & TRACTION:\n",
    "- Bootstrapped to $100K ARR in first 6 months\n",
    "- 50+ paying customers\n",
    "- 98% customer retention rate\n",
    "- Average customer sees 35% increase in booked jobs\n",
    "- Seeking $2M seed round for product development and market expansion\n",
    "\n",
    "FUTURE VISION:\n",
    "We aim to become the leading AI platform for local service businesses, expanding to include predictive maintenance, IoT integration, and eventually becoming the operating system for home service companies.\n",
    "\n",
    "CONTACT INFORMATION:\n",
    "LocalPro AI\n",
    "123 Innovation Drive\n",
    "San Francisco, CA 94105\n",
    "\n",
    "Email: hello@localproai.com\n",
    "Phone: (555) 123-4567\n",
    "Website: www.localproai.com\n",
    "LinkedIn: /company/localproai\n",
    "Twitter: @localproai\"\"\"\n",
    "\n",
    "# Create business_docs directory\n",
    "os.makedirs('business_docs', exist_ok=True)\n",
    "\n",
    "# Save business summary\n",
    "with open('business_docs/business_summary.txt', 'w') as f:\n",
    "    f.write(business_summary)\n",
    "\n",
    "print(\"✅ business_summary.txt created\")\n",
    "\n",
    "# Create professional PDF\n",
    "from reportlab.lib.pagesizes import letter\n",
    "from reportlab.platypus import SimpleDocTemplate, Paragraph, Spacer\n",
    "from reportlab.lib.styles import getSampleStyleSheet, ParagraphStyle\n",
    "from reportlab.lib.units import inch\n",
    "\n",
    "def create_business_pdf():\n",
    "    \"\"\"Creates a professional PDF business profile\"\"\"\n",
    "    doc = SimpleDocTemplate(\"business_docs/LocalPro_AI_Profile.pdf\", pagesize=letter,\n",
    "                          rightMargin=72, leftMargin=72, topMargin=72, bottomMargin=18)\n",
    "    styles = getSampleStyleSheet()\n",
    "    story = []\n",
    "\n",
    "    # Title\n",
    "    title_style = ParagraphStyle(\n",
    "        'CustomTitle',\n",
    "        parent=styles['Heading1'],\n",
    "        fontSize=24,\n",
    "        spaceAfter=30,\n",
    "        textColor='#667eea',\n",
    "        alignment=1\n",
    "    )\n",
    "\n",
    "    story.append(Paragraph(\"LocalPro AI - Company Profile\", title_style))\n",
    "    story.append(Spacer(1, 20))\n",
    "\n",
    "    # Company Overview\n",
    "    story.append(Paragraph(\"Company Overview\", styles['Heading2']))\n",
    "    story.append(Paragraph(\"\"\"\n",
    "        LocalPro AI is a cutting-edge technology company founded in 2024 with a clear mission:\n",
    "        to democratize access to enterprise-level AI automation for local home service businesses.\n",
    "        We specialize in providing AI-powered customer service, scheduling optimization, and lead\n",
    "        management solutions specifically designed for the home services industry.\n",
    "    \"\"\", styles['Normal']))\n",
    "    story.append(Spacer(1, 12))\n",
    "\n",
    "    # Market Problem\n",
    "    story.append(Paragraph(\"The Problem We Solve\", styles['Heading2']))\n",
    "    story.append(Paragraph(\"\"\"\n",
    "        The home services industry faces significant challenges that prevent small businesses\n",
    "        from competing effectively with larger corporations:\n",
    "    \"\"\", styles['Normal']))\n",
    "    story.append(Spacer(1, 6))\n",
    "    story.append(Paragraph(\"\"\"\n",
    "        • 77% of home service businesses are small operations (1-5 employees)<br/>\n",
    "        • They lose 35% of potential customers due to missed calls after hours<br/>\n",
    "        • Manual scheduling causes 20% time slot inefficiencies<br/>\n",
    "        • No 24/7 customer service capability vs. large competitors<br/>\n",
    "        • Limited resources for marketing and customer follow-up<br/>\n",
    "        • Difficulty tracking customer satisfaction and managing reviews\n",
    "    \"\"\", styles['Normal']))\n",
    "    story.append(Spacer(1, 12))\n",
    "\n",
    "    # Our Solution\n",
    "    story.append(Paragraph(\"Our AI-Powered Solution\", styles['Heading2']))\n",
    "    story.append(Paragraph(\"\"\"\n",
    "        LocalPro AI provides a comprehensive suite of AI-powered tools designed specifically\n",
    "        for the home services industry:\n",
    "    \"\"\", styles['Normal']))\n",
    "    story.append(Spacer(1, 6))\n",
    "    story.append(Paragraph(\"\"\"\n",
    "        <b>1. AI Customer Service Chatbot (24/7)</b><br/>\n",
    "        Our intelligent chatbot handles customer inquiries instantly, qualifies leads automatically,\n",
    "        books appointments seamlessly, and answers common questions about services, pricing, and availability.<br/><br/>\n",
    "\n",
    "        <b>2. Intelligent Scheduling & Dispatch System</b><br/>\n",
    "        AI-powered route optimization and automatic scheduling based on technician skills, location,\n",
    "        and current workload. Includes real-time calendar management and automated customer notifications.<br/><br/>\n",
    "\n",
    "        <b>3. Automated Lead Management</b><br/>\n",
    "        Captures and qualifies leads from multiple channels (phone, web, social media), with automated\n",
    "        follow-up sequences, lead scoring, and CRM integration.<br/><br/>\n",
    "\n",
    "        <b>4. Review & Reputation Management</b><br/>\n",
    "        Automated post-service follow-up, intelligent review requests sent at optimal times,\n",
    "        customer satisfaction tracking, and reputation monitoring across platforms.<br/><br/>\n",
    "\n",
    "        <b>5. Business Analytics Dashboard</b><br/>\n",
    "        Real-time performance metrics, customer behavior insights, revenue optimization suggestions,\n",
    "        and competitive analysis to help you make data-driven decisions.\n",
    "    \"\"\", styles['Normal']))\n",
    "    story.append(Spacer(1, 12))\n",
    "\n",
    "    # Contact Information\n",
    "    story.append(Paragraph(\"Contact Information\", styles['Heading2']))\n",
    "    story.append(Paragraph(\"\"\"\n",
    "        <b>LocalPro AI</b><br/>\n",
    "        123 Innovation Drive<br/>\n",
    "        San Francisco, CA 94105<br/><br/>\n",
    "\n",
    "        <b>Email:</b> hello@localproai.com<br/>\n",
    "        <b>Phone:</b> (555) 123-4567<br/>\n",
    "        <b>Website:</b> www.localproai.com<br/>\n",
    "        <b>LinkedIn:</b> /company/localproai<br/>\n",
    "        <b>Twitter:</b> @localproai<br/><br/>\n",
    "\n",
    "        <i>Schedule a free consultation to see how LocalPro AI can transform your business!</i>\n",
    "    \"\"\", styles['Normal']))\n",
    "\n",
    "    doc.build(story)\n",
    "\n",
    "# Generate the PDF\n",
    "create_business_pdf()\n",
    "\n",
    "print(\"✅ LocalPro_AI_Profile.pdf created\")\n",
    "print(\"✅ All business documents created successfully!\")"
   ],
   "outputs": [
    {
     "name": "stdout",
     "output_type": "stream",
     "text": [
      "📄 Creating business documents...\n",
      "✅ business_summary.txt created\n",
      "✅ LocalPro_AI_Profile.pdf created\n",
      "✅ All business documents created successfully!\n"
     ]
    }
   ],
   "execution_count": 51
  },
  {
   "cell_type": "markdown",
   "metadata": {
    "id": "lEAJYaySECMk"
   },
   "source": [
    "## Step 5: Define Tool Functions"
   ]
  },
  {
   "cell_type": "code",
   "metadata": {
    "colab": {
     "base_uri": "https://localhost:8080/"
    },
    "id": "mXlJWyXDECMk",
    "outputId": "85d1fe08-e9d8-4bd2-8912-e807bfa09876",
    "ExecuteTime": {
     "end_time": "2025-10-17T16:19:24.452400Z",
     "start_time": "2025-10-17T16:19:24.441396Z"
    }
   },
   "source": [
    "# Tool functions for lead capture and feedback collection\n",
    "print(\"🛠️ Setting up tool functions...\")\n",
    "\n",
    "def record_customer_interest(email: str, name: str, message: str) -> str:\n",
    "    \"\"\"\n",
    "    Records customer interest and contact information for follow-up.\n",
    "\n",
    "    Args:\n",
    "        email: Customer's email address\n",
    "        name: Customer's full name\n",
    "        message: Customer's message or inquiry details\n",
    "\n",
    "    Returns:\n",
    "        Confirmation message that the information was recorded\n",
    "    \"\"\"\n",
    "    try:\n",
    "        # Create leads directory if it doesn't exist\n",
    "        os.makedirs('leads', exist_ok=True)\n",
    "\n",
    "        # Generate filename with timestamp\n",
    "        timestamp = datetime.now().strftime(\"%Y%m%d_%H%M%S\")\n",
    "        filename = f\"leads/lead_{timestamp}.json\"\n",
    "\n",
    "        # Create lead data\n",
    "        lead_data = {\n",
    "            \"timestamp\": datetime.now().isoformat(),\n",
    "            \"name\": name,\n",
    "            \"email\": email,\n",
    "            \"message\": message,\n",
    "            \"status\": \"new\",\n",
    "            \"follow_up_required\": True,\n",
    "            \"source\": \"AI_Chat_Agent\"\n",
    "        }\n",
    "\n",
    "        # Save to JSON file\n",
    "        with open(filename, 'w') as f:\n",
    "            json.dump(lead_data, f, indent=2)\n",
    "\n",
    "        # Also append to CSV for easy viewing\n",
    "        csv_filename = 'leads/all_leads.csv'\n",
    "        file_exists = os.path.exists(csv_filename)\n",
    "\n",
    "        with open(csv_filename, 'a', newline='') as csvfile:\n",
    "            fieldnames = ['timestamp', 'name', 'email', 'message', 'status', 'source']\n",
    "            writer = csv.DictWriter(csvfile, fieldnames=fieldnames)\n",
    "\n",
    "            if not file_exists:\n",
    "                writer.writeheader()\n",
    "\n",
    "            writer.writerow({\n",
    "                'timestamp': lead_data['timestamp'],\n",
    "                'name': name,\n",
    "                'email': email,\n",
    "                'message': message,\n",
    "                'status': 'new',\n",
    "                'source': 'AI_Chat_Agent'\n",
    "            })\n",
    "\n",
    "        print(f\"📋 New lead recorded: {name} ({email})\")\n",
    "        return f\"Thank you {name}! I've recorded your information and our team will follow up with you at {email} within 24 hours. We're excited to help you transform your home service business with AI automation!\"\n",
    "\n",
    "    except Exception as e:\n",
    "        print(f\"❌ Error recording lead: {str(e)}\")\n",
    "        return f\"I apologize, but there was an error recording your information. Please try again or contact us directly at hello@localproai.com.\"\n",
    "\n",
    "\n",
    "def record_feedback(question: str) -> str:\n",
    "    \"\"\"\n",
    "    Records customer questions that the AI couldn't answer for future improvement.\n",
    "\n",
    "    Args:\n",
    "        question: The question or feedback that couldn't be answered\n",
    "\n",
    "    Returns:\n",
    "        Thank you message for the feedback\n",
    "    \"\"\"\n",
    "    try:\n",
    "        # Create feedback directory if it doesn't exist\n",
    "        os.makedirs('feedback', exist_ok=True)\n",
    "\n",
    "        # Generate filename with timestamp\n",
    "        timestamp = datetime.now().strftime(\"%Y%m%d_%H%M%S\")\n",
    "        filename = f\"feedback/feedback_{timestamp}.json\"\n",
    "\n",
    "        # Create feedback data\n",
    "        feedback_data = {\n",
    "            \"timestamp\": datetime.now().isoformat(),\n",
    "            \"question\": question,\n",
    "            \"type\": \"unanswered_question\",\n",
    "            \"status\": \"pending_review\",\n",
    "            \"priority\": \"medium\"\n",
    "        }\n",
    "\n",
    "        # Save to JSON file\n",
    "        with open(filename, 'w') as f:\n",
    "            json.dump(feedback_data, f, indent=2)\n",
    "\n",
    "        # Also append to CSV for easy viewing\n",
    "        csv_filename = 'feedback/all_feedback.csv'\n",
    "        file_exists = os.path.exists(csv_filename)\n",
    "\n",
    "        with open(csv_filename, 'a', newline='') as csvfile:\n",
    "            fieldnames = ['timestamp', 'question', 'type', 'status', 'priority']\n",
    "            writer = csv.DictWriter(csvfile, fieldnames=fieldnames)\n",
    "\n",
    "            if not file_exists:\n",
    "                writer.writeheader()\n",
    "\n",
    "            writer.writerow({\n",
    "                'timestamp': feedback_data['timestamp'],\n",
    "                'question': question,\n",
    "                'type': 'unanswered_question',\n",
    "                'status': 'pending_review',\n",
    "                'priority': 'medium'\n",
    "            })\n",
    "\n",
    "        print(f\"📝 Feedback recorded: {question[:50]}...\")\n",
    "        return \"Thank you for your question! I've recorded it and our team will review it to improve our service. We'll also follow up with you directly if you'd like more information about this topic.\"\n",
    "\n",
    "    except Exception as e:\n",
    "        print(f\"❌ Error recording feedback: {str(e)}\")\n",
    "        return \"Thank you for your feedback! We'll use it to improve our AI assistant.\"\n",
    "\n",
    "print(\"✅ Tool functions created successfully!\")"
   ],
   "outputs": [
    {
     "name": "stdout",
     "output_type": "stream",
     "text": [
      "🛠️ Setting up tool functions...\n",
      "✅ Tool functions created successfully!\n"
     ]
    }
   ],
   "execution_count": 53
  },
  {
   "cell_type": "markdown",
   "metadata": {
    "id": "0CBsOsDnECMl"
   },
   "source": [
    "## Step 6: Create System Prompt"
   ]
  },
  {
   "cell_type": "code",
   "metadata": {
    "colab": {
     "base_uri": "https://localhost:8080/"
    },
    "id": "S0ArAhXRECMl",
    "outputId": "0518ab4f-31e1-4ae2-fa29-9c4823fc6efd",
    "ExecuteTime": {
     "end_time": "2025-10-17T16:28:44.088898Z",
     "start_time": "2025-10-17T16:28:44.081023Z"
    }
   },
   "source": [
    "# Define the AI agent's personality and instructions\n",
    "print(\"📝 Creating system prompt...\")\n",
    "\n",
    "system_prompt = \"\"\"You are Sarah, the AI business representative for LocalPro AI, a company that provides AI-powered automation solutions for home service businesses. You are professional, knowledgeable, and genuinely helpful.\n",
    "\n",
    "ABOUT LOCALPRO AI:\n",
    "- We help plumbers, electricians, HVAC contractors, cleaners, landscapers, and other home service businesses automate their operations\n",
    "- Our AI solutions work 24/7 to capture leads, book appointments, answer customer questions, and optimize scheduling\n",
    "- We integrate seamlessly with popular tools like ServiceTitan, Housecall Pro, and QuickBooks\n",
    "- Average customers see a 35% increase in booked jobs and 40% improvement in customer satisfaction within 6 months\n",
    "- Founded in 2024, we already serve 50+ businesses with a 98% retention rate\n",
    "\n",
    "YOUR PERSONALITY:\n",
    "- Professional yet friendly and approachable\n",
    "- Deeply knowledgeable about home service business challenges\n",
    "- Focused on providing value and solving real problems\n",
    "- Encouraging but never pushy or aggressive\n",
    "- Empathetic to the struggles of small business owners\n",
    "- Data-driven and results-oriented\n",
    "\n",
    "KEY SERVICES TO DISCUSS:\n",
    "1. **AI-Powered 24/7 Customer Service Chatbot** - Never miss a call or opportunity\n",
    "2. **Intelligent Scheduling & Dispatch Optimization** - Save time and fuel costs\n",
    "3. **Automated Lead Management** - Capture and nurture leads automatically\n",
    "4. **Customer Feedback & Review Management** - Get more 5-star reviews\n",
    "5. **Business Analytics Dashboard** - Make data-driven decisions\n",
    "\n",
    "PRICING INFORMATION:\n",
    "- Starter Plan: $297/month (up to 50 customers, basic features)\n",
    "- Professional Plan: $597/month (up to 200 customers, advanced features)\n",
    "- Enterprise Plan: $997/month (unlimited customers, custom workflows)\n",
    "- Setup fees range from $500-$2,000 depending on business size\n",
    "- Typical ROI payback period: 2-3 months\n",
    "\n",
    "GENERAL RESULTS (What you CAN share):\n",
    "- Average customers see 35% increase in booked jobs\n",
    "- 40% improvement in customer satisfaction within 6 months\n",
    "- 50+ paying customers across all industries\n",
    "- 98% customer retention rate\n",
    "\n",
    "======================================================================\n",
    "⚠️ CRITICAL: WHEN YOU DON'T HAVE SPECIFIC INFORMATION ⚠️\n",
    "======================================================================\n",
    "\n",
    "**If someone asks about specific details you don't have, you MUST CALL THE record_feedback FUNCTION**\n",
    "\n",
    "Questions that require calling record_feedback:\n",
    "- \"Tell me about your success with [specific industry]\"\n",
    "- \"What are your previous successes with landscaping/HVAC/plumbing businesses?\"\n",
    "- \"Can you give me specific case studies or customer examples?\"\n",
    "- \"How does [specific feature] work in detail?\"\n",
    "- Any question asking for specific customer names, stories, or detailed examples you don't have\n",
    "\n",
    "**CRITICAL STEPS:**\n",
    "1. **FIRST: Actually CALL the record_feedback function with their question**\n",
    "2. **THEN: After the function returns, you can respond conversationally**\n",
    "\n",
    "DO NOT just SAY you will record it - you must actually USE the function!\n",
    "\n",
    "Example of CORRECT behavior:\n",
    "User: \"Tell me about previous successes with HVAC companies\"\n",
    "You: [CALL record_feedback function with question: \"Tell me about previous successes with HVAC companies\"]\n",
    "[Function returns: \"Thank you for your question! I've recorded it...\"]\n",
    "You can add: \"I can share that across all industries including HVAC, our customers see a 35% increase in booked jobs. Would you like to learn more?\"\n",
    "\n",
    "Example of WRONG behavior:\n",
    "User: \"Tell me about previous successes with HVAC companies\"\n",
    "You: \"Thank you for your question! I've noted it...\" [WITHOUT CALLING THE FUNCTION] ❌ WRONG!\n",
    "\n",
    "======================================================================\n",
    "⚠️ CRITICAL: OFF-TOPIC QUESTIONS ⚠️\n",
    "======================================================================\n",
    "\n",
    "**For ANY off-topic question, CALL record_feedback function immediately**\n",
    "\n",
    "Off-topic questions include:\n",
    "- Weather, news, sports, entertainment\n",
    "- General knowledge (history, science, math)\n",
    "- How-to questions unrelated to our services\n",
    "- Jokes, personal advice, recipes, etc.\n",
    "- Questions about other companies\n",
    "\n",
    "**STEPS:**\n",
    "1. **CALL record_feedback function with their question**\n",
    "2. **After function returns, respond:** \"Thank you for your question! I've noted it and our team will get back to you. Is there anything about LocalPro AI's automation solutions that I can help you with?\"\n",
    "\n",
    "======================================================================\n",
    "LEAD CAPTURE WORKFLOW\n",
    "======================================================================\n",
    "\n",
    "**WHEN TO CAPTURE CUSTOMER INFORMATION:**\n",
    "\n",
    "You MUST use record_customer_interest when ANY of these happen:\n",
    "1. Customer mentions they own/run a home service business\n",
    "2. Customer asks about pricing, plans, demos, or getting started\n",
    "3. Customer expresses interest (\"this sounds interesting\", \"I want to learn more\")\n",
    "4. Customer provides their name AND email AND shows business interest\n",
    "\n",
    "**THE LEAD CAPTURE PROCESS:**\n",
    "\n",
    "Step 1: If customer shows ANY interest → Ask for their name and email\n",
    "\n",
    "Step 2: Once you have BOTH name AND email → IMMEDIATELY CALL record_customer_interest function\n",
    "   - Don't wait or continue without capturing\n",
    "   - The \"message\" parameter should summarize their interest\n",
    "\n",
    "Step 3: After calling the function, continue helping them\n",
    "\n",
    "======================================================================\n",
    "IMPORTANT GUIDELINES:\n",
    "======================================================================\n",
    "- **ALWAYS CALL THE FUNCTION - don't just say you will!**\n",
    "- Never make up customer names, case studies, or specific examples\n",
    "- Only share the general results listed above\n",
    "- Be proactive about capturing leads\n",
    "- Be warm, human, and helpful\n",
    "\n",
    "Remember: CALL the functions, don't just talk about calling them!\n",
    "        if you have any pending information before adding a new json file and adding the incomplete info ask for them immediatly and then make the file.\n",
    "Example input: i have a plumbing service and i may require your help how can i know that you can help me or not because im interested\n",
    "\n",
    "Expected output: Thank you pending, can you please send me your name and email for us to keep in touch.\n",
    "Input: first name last name,\n",
    "output: I've recorded your information and our team will follow up with you at pending within 24 hours. We're excited to help you transform your home service business with AI automation! \"\"\"\n",
    "\n",
    "print(\"✅ System prompt created!\")"
   ],
   "outputs": [
    {
     "name": "stdout",
     "output_type": "stream",
     "text": [
      "📝 Creating system prompt...\n",
      "✅ System prompt created!\n"
     ]
    }
   ],
   "execution_count": 65
  },
  {
   "cell_type": "markdown",
   "metadata": {
    "id": "iRPyJ1ZwECMm"
   },
   "source": [
    "## Step 7: Configure AI Agent (OpenRouter/Kimi K2)"
   ]
  },
  {
   "cell_type": "code",
   "metadata": {
    "colab": {
     "base_uri": "https://localhost:8080/"
    },
    "id": "1q-9x5g3ECMm",
    "outputId": "30082a01-a8a3-4f86-cf15-2e5a3fca6c40",
    "ExecuteTime": {
     "end_time": "2025-10-17T16:28:45.652962Z",
     "start_time": "2025-10-17T16:28:45.644519Z"
    }
   },
   "source": "# Configure AI agent settings with proper tool definitions\nprint(\"🤖 Setting up AI agent configuration with function calling...\")\n\n# Define tool schemas for the API\ntools = [\n    {\n        \"type\": \"function\",\n        \"function\": {\n            \"name\": \"record_customer_interest\",\n            \"description\": \"Record customer contact information when they express interest in LocalPro AI services. Use this when the customer provides their email and shows interest in demos, consultations, pricing, or getting started.\",\n            \"parameters\": {\n                \"type\": \"object\",\n                \"properties\": {\n                    \"email\": {\n                        \"type\": \"string\",\n                        \"description\": \"The customer's email address\"\n                    },\n                    \"name\": {\n                        \"type\": \"string\",\n                        \"description\": \"The customer's full name\"\n                    },\n                    \"message\": {\n                        \"type\": \"string\",\n                        \"description\": \"The customer's inquiry or message expressing their interest\"\n                    }\n                },\n                \"required\": [\"email\", \"name\", \"message\"]\n            }\n        }\n    },\n    {\n        \"type\": \"function\",\n        \"function\": {\n            \"name\": \"record_feedback\",\n            \"description\": \"CRITICAL: Use this function for ANY question that is NOT directly about LocalPro AI's services, pricing, or features. This includes: weather, news, general knowledge, technical how-tos unrelated to our business, jokes, personal advice, competitor details, or any off-topic questions. Record the question so the team can follow up.\",\n            \"parameters\": {\n                \"type\": \"object\",\n                \"properties\": {\n                    \"question\": {\n                        \"type\": \"string\",\n                        \"description\": \"The off-topic question or topic that should be recorded for team follow-up\"\n                    }\n                },\n                \"required\": [\"question\"]\n            }\n        }\n    }\n]\n\nprint(\"✅ AI agent configured with 2 function calling tools!\")\nprint(\"   ✓ record_customer_interest\")\nprint(\"   ✓ record_feedback\")",
   "outputs": [
    {
     "name": "stdout",
     "output_type": "stream",
     "text": [
      "🤖 Setting up AI agent configuration with function calling...\n",
      "✅ AI agent configured with 2 function calling tools!\n",
      "   ✓ record_customer_interest\n",
      "   ✓ record_feedback\n"
     ]
    }
   ],
   "execution_count": 66
  },
  {
   "cell_type": "markdown",
   "metadata": {
    "id": "-r1vARYbECMm"
   },
   "source": [
    "## Step 8: Create Chat Function with Lead Capture"
   ]
  },
  {
   "cell_type": "code",
   "metadata": {
    "colab": {
     "base_uri": "https://localhost:8080/"
    },
    "id": "Z48RrK5zECMm",
    "outputId": "74f45270-6350-40b9-8f04-70664c627488",
    "ExecuteTime": {
     "end_time": "2025-10-17T16:28:47.952962Z",
     "start_time": "2025-10-17T16:28:47.936281Z"
    }
   },
   "source": "# COMPLETE REWRITE: Chat Function with Proper Function Calling\nprint(\"💬 Creating chat function with function calling support...\")\n\n# Store conversation history\nconversation_history = []\n\ndef chat_with_agent(user_input: str, history: List = None) -> tuple:\n    \"\"\"\n    Main chat function that processes user input and returns AI response.\n    Supports proper function calling via OpenRouter API.\n\n    Args:\n        user_input: The user's message\n        history: Previous chat history from Gradio (in messages format)\n\n    Returns:\n        Tuple of (updated_history, response_text)\n    \"\"\"\n    global conversation_history\n\n    if history is None:\n        history = []\n\n    try:\n        # Build messages for the API\n        messages = [{\"role\": \"system\", \"content\": system_prompt}]\n\n        # Add conversation history (keep last 20 messages for context)\n        recent_history = conversation_history[-20:] if len(conversation_history) > 20 else conversation_history\n        for msg in recent_history:\n            messages.append(msg)\n\n        # Add current user message\n        messages.append({\"role\": \"user\", \"content\": user_input})\n        conversation_history.append({\"role\": \"user\", \"content\": user_input})\n\n        # Call OpenRouter API with tools\n        headers = {\n            \"Authorization\": f\"Bearer {API_KEY}\",\n            \"Content-Type\": \"application/json\",\n            \"HTTP-Referer\": \"https://github.com/localproai/business-agent\",\n            \"X-Title\": \"LocalPro AI Business Agent\"\n        }\n\n        payload = {\n            \"model\": \"moonshotai/kimi-k2\",\n            \"messages\": messages,\n            \"tools\": tools,  # Include tool definitions\n            \"tool_choice\": \"auto\",  # Let AI decide when to use tools\n            \"temperature\": 0.7,\n            \"max_tokens\": 1500\n        }\n\n        response = requests.post(OPENROUTER_URL, headers=headers, json=payload, timeout=30)\n\n        if response.status_code != 200:\n            raise Exception(f\"API error: {response.status_code} - {response.text}\")\n\n        result = response.json()\n\n        # Check if the model wants to call a function\n        finish_reason = result['choices'][0].get('finish_reason')\n        assistant_message = result['choices'][0]['message']\n\n        if finish_reason == 'tool_calls' and 'tool_calls' in assistant_message:\n            # AI wants to use a tool\n            tool_calls = assistant_message['tool_calls']\n\n            print(f\"🔧 AI is calling {len(tool_calls)} tool(s)...\")\n\n            # Execute each tool call\n            tool_results = []\n            for tool_call in tool_calls:\n                function_name = tool_call['function']['name']\n                function_args = json.loads(tool_call['function']['arguments'])\n\n                print(f\"   → Calling {function_name} with args: {function_args}\")\n\n                # Execute the appropriate function\n                if function_name == 'record_customer_interest':\n                    result_msg = record_customer_interest(\n                        email=function_args.get('email'),\n                        name=function_args.get('name'),\n                        message=function_args.get('message')\n                    )\n                    tool_results.append(result_msg)\n\n                elif function_name == 'record_feedback':\n                    result_msg = record_feedback(\n                        question=function_args.get('question')\n                    )\n                    tool_results.append(result_msg)\n\n            # Combine tool results into response\n            ai_response_text = \"\\n\\n\".join(tool_results)\n\n            # Store in conversation history\n            conversation_history.append({\"role\": \"assistant\", \"content\": ai_response_text})\n\n        else:\n            # Normal text response (no tool call)\n            ai_response_text = assistant_message.get('content', '')\n\n            # Store assistant response in history\n            conversation_history.append({\"role\": \"assistant\", \"content\": ai_response_text})\n\n        # Update Gradio history in messages format\n        history.append({\"role\": \"user\", \"content\": user_input})\n        history.append({\"role\": \"assistant\", \"content\": ai_response_text})\n\n        return history, ai_response_text\n\n    except requests.exceptions.Timeout:\n        error_msg = \"I apologize, but the response is taking longer than expected. Please try again!\"\n        print(f\"⏱️ Request timeout\")\n        history.append({\"role\": \"user\", \"content\": user_input})\n        history.append({\"role\": \"assistant\", \"content\": error_msg})\n        return history, error_msg\n    except Exception as e:\n        error_msg = f\"I apologize, but I'm experiencing a technical issue right now. Please try again in a moment, or feel free to contact us directly at hello@localproai.com or (555) 123-4567.\"\n        print(f\"❌ Error in chat: {str(e)}\")\n        history.append({\"role\": \"user\", \"content\": user_input})\n        history.append({\"role\": \"assistant\", \"content\": error_msg})\n        return history, error_msg\n\nprint(\"✅ Chat function ready with function calling support!\")",
   "outputs": [
    {
     "name": "stdout",
     "output_type": "stream",
     "text": [
      "💬 Creating chat function with function calling support...\n",
      "✅ Chat function ready with function calling support!\n"
     ]
    }
   ],
   "execution_count": 67
  },
  {
   "cell_type": "markdown",
   "metadata": {
    "id": "FDqdjjAPECMn"
   },
   "source": [
    "## Step 9: Create Gradio Interface"
   ]
  },
  {
   "cell_type": "code",
   "metadata": {
    "colab": {
     "base_uri": "https://localhost:8080/"
    },
    "id": "1qR5D9ubECMn",
    "outputId": "ee1c3e41-5df8-4e15-c794-2ff6f4d3619d",
    "ExecuteTime": {
     "end_time": "2025-10-17T16:28:51.377103Z",
     "start_time": "2025-10-17T16:28:51.362158Z"
    }
   },
   "source": [
    "# FIXED: Gradio Interface with Proper History Management\n",
    "print(\"🎨 Creating FIXED Gradio interface with proper history...\")\n",
    "\n",
    "def create_gradio_interface():\n",
    "    \"\"\"Create and configure the Gradio chat interface with FIXED history management\"\"\"\n",
    "\n",
    "    with gr.Blocks(\n",
    "        title=\"LocalPro AI - Smart Business Agent\",\n",
    "        theme=gr.themes.Soft(\n",
    "            primary_hue=\"violet\",\n",
    "            secondary_hue=\"purple\",\n",
    "        ),\n",
    "        css=\"\"\"\n",
    "        .gradio-container {\n",
    "            font-family: 'Segoe UI', Tahoma, Geneva, Verdana, sans-serif;\n",
    "        }\n",
    "        .header-box {\n",
    "            background: linear-gradient(135deg, #667eea 0%, #764ba2 100%);\n",
    "            padding: 30px;\n",
    "            border-radius: 15px;\n",
    "            margin-bottom: 20px;\n",
    "            box-shadow: 0 4px 6px rgba(0,0,0,0.1);\n",
    "        }\n",
    "        .info-box {\n",
    "            background: #f8f9fa;\n",
    "            padding: 15px;\n",
    "            border-radius: 10px;\n",
    "            margin-bottom: 15px;\n",
    "            border-left: 4px solid #667eea;\n",
    "        }\n",
    "        .feature-box {\n",
    "            background: linear-gradient(135deg, #e8f5e8 0%, #d4edda 100%);\n",
    "            padding: 15px;\n",
    "            border-radius: 10px;\n",
    "            margin-bottom: 15px;\n",
    "        }\n",
    "        .contact-box {\n",
    "            background: linear-gradient(135deg, #fff3cd 0%, #ffeaa7 100%);\n",
    "            padding: 15px;\n",
    "            border-radius: 10px;\n",
    "            border: 2px solid #ffc107;\n",
    "        }\n",
    "        \"\"\"\n",
    "    ) as demo:\n",
    "\n",
    "        # Header\n",
    "        gr.HTML(\"\"\"\n",
    "        <div class=\"header-box\">\n",
    "            <h1 style=\"color: white; margin: 0; text-align: center; font-size: 32px;\">\n",
    "                🤖 LocalPro AI Business Agent\n",
    "            </h1>\n",
    "            <p style=\"color: white; font-size: 18px; margin: 10px 0 0 0; text-align: center;\">\n",
    "                AI-Powered Automation for Home Service Businesses\n",
    "            </p>\n",
    "            <p style=\"color: #f0f0f0; font-size: 14px; margin: 10px 0 0 0; text-align: center;\">\n",
    "                Chat with Sarah, our AI business expert, to learn how we can help grow your business!\n",
    "            </p>\n",
    "        </div>\n",
    "        \"\"\")\n",
    "\n",
    "        with gr.Row():\n",
    "            # Left column - Chat interface\n",
    "            with gr.Column(scale=2):\n",
    "                # FIXED: Chatbot component with explicit empty list initialization\n",
    "                chatbot = gr.Chatbot(\n",
    "                    label=\"Chat with Sarah from LocalPro AI\",\n",
    "                    height=500,\n",
    "                    show_copy_button=True,\n",
    "                    type='messages',\n",
    "                    value=[]\n",
    "                )\n",
    "\n",
    "                # Input area\n",
    "                with gr.Row():\n",
    "                    msg_input = gr.Textbox(\n",
    "                        label=\"Your Message\",\n",
    "                        placeholder=\"Ask me anything about AI automation for your home service business...\",\n",
    "                        scale=4,\n",
    "                        lines=2,\n",
    "                        show_label=False\n",
    "                    )\n",
    "                    send_btn = gr.Button(\"Send 📤\", variant=\"primary\", scale=1, size=\"lg\")\n",
    "\n",
    "                # Quick action buttons\n",
    "                gr.HTML(\"<h4 style='margin-top: 20px; margin-bottom: 10px;'>💡 Quick Questions:</h4>\")\n",
    "                with gr.Row():\n",
    "                    q1_btn = gr.Button(\"💰 Pricing & Plans\", size=\"sm\")\n",
    "                    q2_btn = gr.Button(\"⚡ How AI Scheduling Works\", size=\"sm\")\n",
    "                with gr.Row():\n",
    "                    q3_btn = gr.Button(\"📈 Results & ROI\", size=\"sm\")\n",
    "                    q4_btn = gr.Button(\"🔧 Services We Offer\", size=\"sm\")\n",
    "                with gr.Row():\n",
    "                    q5_btn = gr.Button(\"🏆 Customer Success Stories\", size=\"sm\")\n",
    "                    q6_btn = gr.Button(\"📞 Get a Demo\", size=\"sm\")\n",
    "\n",
    "                # Clear chat button\n",
    "                with gr.Row():\n",
    "                    clear_btn = gr.Button(\"🗑️ Clear Chat\", variant=\"secondary\", size=\"sm\")\n",
    "\n",
    "            # Right column - Business info sidebar\n",
    "            with gr.Column(scale=1):\n",
    "                gr.HTML(\"\"\"\n",
    "                <div class=\"info-box\">\n",
    "                    <h3 style=\"margin-top: 0; color: #667eea;\">🏢 About LocalPro AI</h3>\n",
    "                    <p style=\"font-size: 14px; line-height: 1.6;\">\n",
    "                        We empower home service businesses with enterprise-level AI automation.\n",
    "                        Our mission is to help small businesses compete with larger companies through\n",
    "                        24/7 customer service, intelligent scheduling, and automated lead management.\n",
    "                    </p>\n",
    "                    <p style=\"font-size: 13px; color: #666; margin: 10px 0 0 0;\">\n",
    "                        ✅ 50+ businesses served<br/>\n",
    "                        ✅ 98% retention rate<br/>\n",
    "                        ✅ 35% average increase in booked jobs\n",
    "                    </p>\n",
    "                </div>\n",
    "                \"\"\")\n",
    "\n",
    "                gr.HTML(\"\"\"\n",
    "                <div class=\"feature-box\">\n",
    "                    <h3 style=\"margin-top: 0; color: #2d8659;\">✨ Key Features</h3>\n",
    "                    <ul style=\"font-size: 14px; line-height: 1.8; padding-left: 20px;\">\n",
    "                        <li><b>24/7 AI Chatbot</b> - Never miss a lead</li>\n",
    "                        <li><b>Smart Scheduling</b> - Optimize routes & time</li>\n",
    "                        <li><b>Lead Automation</b> - Capture & nurture automatically</li>\n",
    "                        <li><b>Review Management</b> - Get more 5-star reviews</li>\n",
    "                        <li><b>Analytics Dashboard</b> - Data-driven insights</li>\n",
    "                    </ul>\n",
    "                </div>\n",
    "                \"\"\")\n",
    "\n",
    "                gr.HTML(\"\"\"\n",
    "                <div class=\"info-box\">\n",
    "                    <h3 style=\"margin-top: 0; color: #667eea;\">🎯 Industries We Serve</h3>\n",
    "                    <p style=\"font-size: 13px; line-height: 1.6;\">\n",
    "                        🔧 Plumbing<br/>\n",
    "                        ❄️ HVAC<br/>\n",
    "                        ⚡ Electrical<br/>\n",
    "                        🧹 Cleaning Services<br/>\n",
    "                        🌳 Landscaping<br/>\n",
    "                        🏠 Home Repair<br/>\n",
    "                        🐛 Pest Control\n",
    "                    </p>\n",
    "                </div>\n",
    "                \"\"\")\n",
    "\n",
    "                gr.HTML(\"\"\"\n",
    "                <div class=\"contact-box\">\n",
    "                    <h3 style=\"margin-top: 0; color: #856404;\">📞 Contact Us</h3>\n",
    "                    <p style=\"font-size: 14px; line-height: 1.8; margin: 0;\">\n",
    "                        📧 <b>Email:</b> hello@localproai.com<br/>\n",
    "                        📱 <b>Phone:</b> (555) 123-4567<br/>\n",
    "                        🌐 <b>Web:</b> www.localproai.com<br/>\n",
    "                        💼 <b>LinkedIn:</b> /company/localproai\n",
    "                    </p>\n",
    "                    <p style=\"font-size: 12px; color: #856404; margin: 10px 0 0 0; font-style: italic;\">\n",
    "                        Schedule a free consultation today!\n",
    "                    </p>\n",
    "                </div>\n",
    "                \"\"\")\n",
    "\n",
    "        # FIXED: Chat functions with proper history management\n",
    "        def send_message(message, history):\n",
    "            \"\"\"Handle sending a message - FIXED to maintain history\"\"\"\n",
    "            if not message.strip():\n",
    "                return history, \"\"\n",
    "\n",
    "            # Call the chat agent with current history\n",
    "            new_history, response = chat_with_agent(message, history if history else [])\n",
    "\n",
    "            return new_history, \"\"\n",
    "\n",
    "        def quick_question(question_text, history):\n",
    "            \"\"\"Handle quick question button clicks - FIXED to maintain history\"\"\"\n",
    "            new_history, response = chat_with_agent(question_text, history if history else [])\n",
    "            return new_history\n",
    "\n",
    "        def clear_chat():\n",
    "            \"\"\"Clear the chat history\"\"\"\n",
    "            global conversation_history\n",
    "            conversation_history = []\n",
    "            return []\n",
    "\n",
    "        # FIXED: Wire up events properly\n",
    "        send_btn.click(\n",
    "            send_message,\n",
    "            inputs=[msg_input, chatbot],\n",
    "            outputs=[chatbot, msg_input]\n",
    "        )\n",
    "\n",
    "        msg_input.submit(\n",
    "            send_message,\n",
    "            inputs=[msg_input, chatbot],\n",
    "            outputs=[chatbot, msg_input]\n",
    "        )\n",
    "\n",
    "        # Quick question buttons\n",
    "        q1_btn.click(\n",
    "            lambda h: quick_question(\"Tell me about your pricing plans and how much LocalPro AI costs.\", h),\n",
    "            inputs=[chatbot],\n",
    "            outputs=[chatbot]\n",
    "        )\n",
    "\n",
    "        q2_btn.click(\n",
    "            lambda h: quick_question(\"How does your AI-powered scheduling system work?\", h),\n",
    "            inputs=[chatbot],\n",
    "            outputs=[chatbot]\n",
    "        )\n",
    "\n",
    "        q3_btn.click(\n",
    "            lambda h: quick_question(\"What kind of results and ROI can I expect from using LocalPro AI?\", h),\n",
    "            inputs=[chatbot],\n",
    "            outputs=[chatbot]\n",
    "        )\n",
    "\n",
    "        q4_btn.click(\n",
    "            lambda h: quick_question(\"What services do you offer and how can they help my home service business?\", h),\n",
    "            inputs=[chatbot],\n",
    "            outputs=[chatbot]\n",
    "        )\n",
    "\n",
    "        q5_btn.click(\n",
    "            lambda h: quick_question(\"Tell me about some customer success stories and results.\", h),\n",
    "            inputs=[chatbot],\n",
    "            outputs=[chatbot]\n",
    "        )\n",
    "\n",
    "        q6_btn.click(\n",
    "            lambda h: quick_question(\"I'm interested in getting a demo. How do I get started?\", h),\n",
    "            inputs=[chatbot],\n",
    "            outputs=[chatbot]\n",
    "        )\n",
    "\n",
    "        clear_btn.click(\n",
    "            clear_chat,\n",
    "            outputs=[chatbot]\n",
    "        )\n",
    "\n",
    "    return demo\n",
    "\n",
    "print(\"✅ FIXED Gradio interface configured with proper history management!\")"
   ],
   "outputs": [
    {
     "name": "stdout",
     "output_type": "stream",
     "text": [
      "🎨 Creating FIXED Gradio interface with proper history...\n",
      "✅ FIXED Gradio interface configured with proper history management!\n"
     ]
    }
   ],
   "execution_count": 68
  },
  {
   "cell_type": "markdown",
   "metadata": {
    "id": "um5Kwl87ECMo"
   },
   "source": [
    "## Step 10: Launch the Application"
   ]
  },
  {
   "cell_type": "code",
   "metadata": {
    "colab": {
     "base_uri": "https://localhost:8080/",
     "height": 1000
    },
    "id": "WpHF2AexECMo",
    "outputId": "b2b7b9ba-3966-41fa-bc18-a0e5b3252840",
    "ExecuteTime": {
     "end_time": "2025-10-17T16:29:00.391724Z",
     "start_time": "2025-10-17T16:28:56.660917Z"
    }
   },
   "source": [
    "# Step 10: Launch the Application (FIXED)\n",
    "print(\"\\n\" + \"=\"*60)\n",
    "print(\"🚀 LOCALPRO AI SMART BUSINESS AGENT\")\n",
    "print(\"=\"*60)\n",
    "print(\"✅ All components initialized successfully!\")\n",
    "print(\"\\n📝 Files created:\")\n",
    "print(\"   ✓ business_docs/business_summary.txt\")\n",
    "print(\"   ✓ business_docs/LocalPro_AI_Profile.pdf\")\n",
    "print(\"\\n📂 Directories ready:\")\n",
    "print(\"   ✓ leads/ - Customer leads will be saved here\")\n",
    "print(\"   ✓ feedback/ - Customer feedback will be saved here\")\n",
    "print(\"\\n🤖 AI Agent ready:\")\n",
    "print(\"   ✓ Model: Kimi K2 (via OpenRouter)\")\n",
    "print(\"   ✓ Function calling: Enabled\")\n",
    "print(\"   ✓ Tools: record_customer_interest, record_feedback\")\n",
    "print(\"\\n💬 Features:\")\n",
    "print(\"   ✓ 24/7 AI business representative (Sarah)\")\n",
    "print(\"   ✓ Automatic lead capture with email & contact info\")\n",
    "print(\"   ✓ Feedback collection for continuous improvement\")\n",
    "print(\"   ✓ Professional Gradio chat interface\")\n",
    "print(\"   ✓ Messages format (OpenAI-style) - No deprecation warnings!\")\n",
    "print(\"   ✓ Quick action buttons for common questions\")\n",
    "print(\"\\n\" + \"=\"*60)\n",
    "print(\"🌐 Launching web interface...\")\n",
    "print(\"=\"*60 + \"\\n\")\n",
    "\n",
    "# Create and launch the interface\n",
    "demo = create_gradio_interface()\n",
    "\n",
    "# Launch configuration\n",
    "try:\n",
    "    demo.launch(\n",
    "        share=True,\n",
    "        debug=False,\n",
    "        inline=True,\n",
    "        show_error=True\n",
    "    )\n",
    "except Exception as e:\n",
    "    print(f\"⚠️ Inline launch failed, trying alternative method...\")\n",
    "    print(f\"Error: {e}\")\n",
    "    demo.launch(share=True, debug=True, show_error=True)"
   ],
   "outputs": [
    {
     "name": "stdout",
     "output_type": "stream",
     "text": [
      "\n",
      "============================================================\n",
      "🚀 LOCALPRO AI SMART BUSINESS AGENT\n",
      "============================================================\n",
      "✅ All components initialized successfully!\n",
      "\n",
      "📝 Files created:\n",
      "   ✓ business_docs/business_summary.txt\n",
      "   ✓ business_docs/LocalPro_AI_Profile.pdf\n",
      "\n",
      "📂 Directories ready:\n",
      "   ✓ leads/ - Customer leads will be saved here\n",
      "   ✓ feedback/ - Customer feedback will be saved here\n",
      "\n",
      "🤖 AI Agent ready:\n",
      "   ✓ Model: Kimi K2 (via OpenRouter)\n",
      "   ✓ Function calling: Enabled\n",
      "   ✓ Tools: record_customer_interest, record_feedback\n",
      "\n",
      "💬 Features:\n",
      "   ✓ 24/7 AI business representative (Sarah)\n",
      "   ✓ Automatic lead capture with email & contact info\n",
      "   ✓ Feedback collection for continuous improvement\n",
      "   ✓ Professional Gradio chat interface\n",
      "   ✓ Messages format (OpenAI-style) - No deprecation warnings!\n",
      "   ✓ Quick action buttons for common questions\n",
      "\n",
      "============================================================\n",
      "🌐 Launching web interface...\n",
      "============================================================\n",
      "\n",
      "* Running on local URL:  http://127.0.0.1:7872\n",
      "* Running on public URL: https://ba1c228b94602424e6.gradio.live\n",
      "\n",
      "This share link expires in 1 week. For free permanent hosting and GPU upgrades, run `gradio deploy` from the terminal in the working directory to deploy to Hugging Face Spaces (https://huggingface.co/spaces)\n"
     ]
    },
    {
     "data": {
      "text/plain": [
       "<IPython.core.display.HTML object>"
      ],
      "text/html": [
       "<div><iframe src=\"https://ba1c228b94602424e6.gradio.live\" width=\"100%\" height=\"500\" allow=\"autoplay; camera; microphone; clipboard-read; clipboard-write;\" frameborder=\"0\" allowfullscreen></iframe></div>"
      ]
     },
     "metadata": {},
     "output_type": "display_data",
     "jetTransient": {
      "display_id": null
     }
    }
   ],
   "execution_count": 69
  },
  {
   "metadata": {
    "ExecuteTime": {
     "end_time": "2025-10-17T15:26:31.160165Z",
     "start_time": "2025-10-17T15:26:31.156023Z"
    }
   },
   "cell_type": "code",
   "source": [
    "# Test if all variables are accessible\n",
    "print(\"🧪 Testing variables...\")\n",
    "\n",
    "try:\n",
    "    print(f\"✓ tools variable exists: {len(tools)} tools\")\n",
    "    print(f\"  Tool 1: {tools[0]['function']['name']}\")\n",
    "    print(f\"  Tool 2: {tools[1]['function']['name']}\")\n",
    "except Exception as e:\n",
    "    print(f\"❌ Error accessing tools: {e}\")\n",
    "\n",
    "try:\n",
    "    print(f\"✓ system_prompt exists: {len(system_prompt)} chars\")\n",
    "except Exception as e:\n",
    "    print(f\"❌ Error accessing system_prompt: {e}\")\n",
    "\n",
    "try:\n",
    "    print(f\"✓ API_KEY exists: {API_KEY[:20]}...\")\n",
    "except Exception as e:\n",
    "    print(f\"❌ Error accessing API_KEY: {e}\")\n",
    "\n",
    "print(\"\\n✅ If all show ✓, variables are fine\")"
   ],
   "outputs": [
    {
     "name": "stdout",
     "output_type": "stream",
     "text": [
      "🧪 Testing variables...\n",
      "✓ tools variable exists: 2 tools\n",
      "  Tool 1: record_customer_interest\n",
      "  Tool 2: record_feedback\n",
      "✓ system_prompt exists: 5607 chars\n",
      "✓ API_KEY exists: sk-or-v1-da4e185b90e...\n",
      "\n",
      "✅ If all show ✓, variables are fine\n"
     ]
    }
   ],
   "execution_count": 23
  }
 ],
 "metadata": {
  "kernelspec": {
   "display_name": "Python 3",
   "language": "python",
   "name": "python3"
  },
  "language_info": {
   "codemirror_mode": {
    "name": "ipython",
    "version": 3
   },
   "file_extension": ".py",
   "mimetype": "text/x-python",
   "name": "python",
   "nbconvert_exporter": "python",
   "pygments_lexer": "ipython3",
   "version": "3.8.0"
  },
  "colab": {
   "provenance": []
  }
 },
 "nbformat": 4,
 "nbformat_minor": 0
}
